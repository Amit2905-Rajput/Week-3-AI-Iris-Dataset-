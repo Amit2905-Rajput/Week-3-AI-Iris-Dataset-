{
 "cells": [
  {
   "cell_type": "code",
   "execution_count": null,
   "id": "14d0a496-dc35-4558-ba03-29ea5b25cd4c",
   "metadata": {},
   "outputs": [],
   "source": [
    "Import Required Libraries\n",
    "import numpy as np\n",
    "import pandas as pd\n",
    "import matplotlib.pyplot as plt\n",
    "import seaborn as sns\n",
    "from sklearn import datasets\n",
    "from sklearn.model_selection import train_test_split\n",
    "from sklearn.preprocessing import StandardScaler\n",
    "from sklearn.neighbors import KNeighborsClassifier\n",
    "from sklearn.metrics import accuracy_score, classification_report, confusion_matrix"
   ]
  },
  {
   "cell_type": "code",
   "execution_count": null,
   "id": "b2715515-e43a-4909-95cd-d84ed342c4b0",
   "metadata": {},
   "outputs": [],
   "source": [
    "Define the Problem Statement\n",
    "# The Iris dataset contains 150 samples of iris flowers classified into three species: \n",
    "# - Setosa\n",
    "# - Versicolor\n",
    "# - Virginica\n",
    "# The goal is to build a classification model that predicts the species based on four features: \n",
    "# - Sepal length\n",
    "# - Sepal width\n",
    "# - Petal length\n",
    "# - Petal width"
   ]
  },
  {
   "cell_type": "code",
   "execution_count": null,
   "id": "487cd9bc-81e4-45f4-b82e-fc1b7b887562",
   "metadata": {},
   "outputs": [],
   "source": [
    "Load the Dataset\n",
    "iris = datasets.load_iris()\n",
    "X = iris.data  # Features\n",
    "y = iris.target  # Target labels\n"
   ]
  },
  {
   "cell_type": "code",
   "execution_count": null,
   "id": "c266a03d-c53b-4390-89e6-57107cf4593e",
   "metadata": {},
   "outputs": [],
   "source": [
    "# Convert to DataFrame for better visualization\n",
    "df = pd.DataFrame(X, columns=iris.feature_names)\n",
    "df['species'] = y\n",
    "df['species'] = df['species'].map({0: 'setosa', 1: 'versicolor', 2: 'virginica'})\n"
   ]
  },
  {
   "cell_type": "code",
   "execution_count": null,
   "id": "91e888f6-b9a4-4957-982e-7cb92fae69fd",
   "metadata": {},
   "outputs": [],
   "source": [
    "Exploratory Data Analysis (EDA)\n",
    "print(df.head())\n",
    "print(\"\\nDataset Information:\")\n",
    "print(df.info())\n",
    "print(\"\\nSummary Statistics:\")\n",
    "print(df.describe())\n"
   ]
  },
  {
   "cell_type": "code",
   "execution_count": null,
   "id": "18562eba-ed9f-486c-830d-32a161b5f25a",
   "metadata": {},
   "outputs": [],
   "source": [
    "# Pairplot to visualize the relationship between variables\n",
    "sns.pairplot(df, hue='species', markers=['o', 's', 'D'])\n",
    "plt.show()\n"
   ]
  },
  {
   "cell_type": "code",
   "execution_count": null,
   "id": "7903a28f-bad3-4c11-98b4-ea47ea15842d",
   "metadata": {},
   "outputs": [],
   "source": [
    "# Correlation Heatmap\n",
    "plt.figure(figsize=(8,6))\n",
    "sns.heatmap(df.iloc[:, :-1].corr(), annot=True, cmap='coolwarm', linewidths=0.5)\n",
    "plt.title(\"Feature Correlation Heatmap\")\n",
    "plt.show()\n"
   ]
  },
  {
   "cell_type": "code",
   "execution_count": null,
   "id": "55683dad-1da8-4c6d-8c02-ee8dceb5a409",
   "metadata": {},
   "outputs": [],
   "source": [
    "Data Preprocessing\n",
    "# Splitting data into train and test sets\n",
    "X_train, X_test, y_train, y_test = train_test_split(X, y, test_size=0.2, random_state=42, stratify=y)\n"
   ]
  },
  {
   "cell_type": "code",
   "execution_count": null,
   "id": "b0566e2b-5c97-4d99-ab07-6e42217fa3ef",
   "metadata": {},
   "outputs": [],
   "source": [
    "# Standardizing the data (important for KNN)\n",
    "scaler = StandardScaler()\n",
    "X_train = scaler.fit_transform(X_train)\n",
    "X_test = scaler.transform(X_test)\n"
   ]
  },
  {
   "cell_type": "code",
   "execution_count": null,
   "id": "a9a24c52-dc0e-4635-aa08-0f12d7c2c204",
   "metadata": {},
   "outputs": [],
   "source": [
    "Train a Classification Model (KNN)\n",
    "knn = KNeighborsClassifier(n_neighbors=5)  # Choosing k=5\n",
    "knn.fit(X_train, y_train)\n"
   ]
  },
  {
   "cell_type": "code",
   "execution_count": null,
   "id": "9aa5e3dc-39ed-4e15-87bb-66ce1bdd4648",
   "metadata": {},
   "outputs": [],
   "source": [
    "Model Evaluation\n",
    "y_pred = knn.predict(X_test)\n",
    "accuracy = accuracy_score(y_test, y_pred)\n",
    "print(f\"Model Accuracy: {accuracy:.2f}\")\n",
    "print(\"\\nClassification Report:\")\n",
    "print(classification_report(y_test, y_pred))\n"
   ]
  },
  {
   "cell_type": "code",
   "execution_count": null,
   "id": "3e5869c3-739b-46ff-a938-d9b339249f37",
   "metadata": {},
   "outputs": [],
   "source": [
    "# Confusion Matrix\n",
    "plt.figure(figsize=(5,4))\n",
    "sns.heatmap(confusion_matrix(y_test, y_pred), annot=True, cmap='Blues', fmt='d', xticklabels=iris.target_names, yticklabels=iris.target_names)\n",
    "plt.xlabel(\"Predicted\")\n",
    "plt.ylabel(\"Actual\")\n",
    "plt.title(\"Confusion Matrix\")\n",
    "plt.show()\n"
   ]
  },
  {
   "cell_type": "code",
   "execution_count": null,
   "id": "8502ef09-b647-4cc2-9a22-82bc760148de",
   "metadata": {},
   "outputs": [],
   "source": [
    "Making Predictions\n",
    "sample = [[5.1, 3.5, 1.4, 0.2]]  # Example input\n",
    "sample_scaled = scaler.transform(sample)  # Scale input\n",
    "prediction = knn.predict(sample_scaled)\n",
    "print(f\"Predicted species: {iris.target_names[prediction][0]}\")\n"
   ]
  },
  {
   "cell_type": "code",
   "execution_count": null,
   "id": "84485400-95f2-4b00-96f9-ad5db4867845",
   "metadata": {},
   "outputs": [],
   "source": []
  }
 ],
 "metadata": {
  "kernelspec": {
   "display_name": "Python 3 (ipykernel)",
   "language": "python",
   "name": "python3"
  },
  "language_info": {
   "codemirror_mode": {
    "name": "ipython",
    "version": 3
   },
   "file_extension": ".py",
   "mimetype": "text/x-python",
   "name": "python",
   "nbconvert_exporter": "python",
   "pygments_lexer": "ipython3",
   "version": "3.12.7"
  }
 },
 "nbformat": 4,
 "nbformat_minor": 5
}
